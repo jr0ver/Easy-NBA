{
 "cells": [
  {
   "cell_type": "code",
   "execution_count": 1,
   "id": "5471dd08",
   "metadata": {},
   "outputs": [],
   "source": [
    "import pandas as pd\n",
    "import numpy as np"
   ]
  },
  {
   "cell_type": "code",
   "execution_count": 94,
   "id": "f6d956b0",
   "metadata": {},
   "outputs": [],
   "source": [
    "player_cleaned = 'joe_smith' #test\n",
    "url = ( \"https://www.landofbasketball.com/nba_players/\" + player_cleaned + \".htm\" ) \n",
    "data = pd.read_html(url)"
   ]
  },
  {
   "cell_type": "code",
   "execution_count": 119,
   "id": "c06646e1",
   "metadata": {},
   "outputs": [],
   "source": [
    "def get_tables(data: pd.Series) -> tuple:\n",
    "    reg = data[len(data) - 2]\n",
    "    playoffs = data[len(data) - 1]\n",
    "    column_names = [\n",
    "        \"Season\",\n",
    "        \"Team\",\n",
    "        \"Games\",\n",
    "        \"Points\",\n",
    "        \"Rebounds\",\n",
    "        \"Assists\",\n",
    "        \"Steals\",\n",
    "        \"Blocks\",\n",
    "        \"NaN\",\n",
    "    ]\n",
    "\n",
    "    reg.columns = column_names\n",
    "    playoffs.columns = column_names\n",
    "    reg = reg.drop(0)\n",
    "    playoffs = playoffs.drop(0)\n",
    "    reg = reg.drop(\"NaN\", axis=1)\n",
    "    playoffs = playoffs.drop(\"NaN\", axis=1)\n",
    "    reg = reg.reset_index(drop=True)\n",
    "    playoffs = playoffs.reset_index(drop=True)\n",
    "\n",
    "    return reg, playoffs"
   ]
  },
  {
   "cell_type": "code",
   "execution_count": 121,
   "id": "09f121b1",
   "metadata": {},
   "outputs": [],
   "source": [
    "[reg, playoffs] = get_tables(data)\n",
    "# total = reg['Team'].nunique()\n",
    "# teams = []\n",
    "# if total >=3:\n",
    "#     teams = reg['count'].value_counts()==1\n",
    "total = reg['Team'].nunique()\n",
    "teams = reg['Team'].value_counts()\n",
    "all_teams = teams.index.tolist()[:-1]\n",
    "# filtered_reg = reg[teams[reg['Team']].values]\n",
    "# teams[reg['Team']]"
   ]
  },
  {
   "cell_type": "code",
   "execution_count": 122,
   "id": "077e2395",
   "metadata": {},
   "outputs": [
    {
     "data": {
      "text/plain": [
       "Team\n",
       "Total           5\n",
       "Timberwolves    4\n",
       "Warriors        3\n",
       "Bucks           3\n",
       "76ers           2\n",
       "Cavaliers       2\n",
       "Pistons         1\n",
       "Nuggets         1\n",
       "Bulls           1\n",
       "Thunder         1\n",
       "Hawks           1\n",
       "Nets            1\n",
       "Lakers          1\n",
       "Career:         1\n",
       "Name: count, dtype: int64"
      ]
     },
     "execution_count": 122,
     "metadata": {},
     "output_type": "execute_result"
    }
   ],
   "source": [
    "reg[\"Team\"].value_counts()"
   ]
  },
  {
   "cell_type": "code",
   "execution_count": 109,
   "id": "92f8b0a4",
   "metadata": {},
   "outputs": [
    {
     "data": {
      "text/plain": [
       "['Total',\n",
       " 'Timberwolves',\n",
       " 'Warriors',\n",
       " 'Bucks',\n",
       " '76ers',\n",
       " 'Cavaliers',\n",
       " 'Pistons',\n",
       " 'Nuggets',\n",
       " 'Bulls',\n",
       " 'Thunder',\n",
       " 'Hawks',\n",
       " 'Nets',\n",
       " 'Lakers']"
      ]
     },
     "execution_count": 109,
     "metadata": {},
     "output_type": "execute_result"
    }
   ],
   "source": [
    "    teams = reg['Team'].value_counts()\n",
    "    all_teams = teams.index.tolist()[:-1]\n",
    "    all_teams"
   ]
  },
  {
   "cell_type": "code",
   "execution_count": 123,
   "id": "a189ca98",
   "metadata": {},
   "outputs": [
    {
     "data": {
      "text/plain": [
       "['Total',\n",
       " 'Timberwolves',\n",
       " 'Warriors',\n",
       " 'Bucks',\n",
       " '76ers',\n",
       " 'Cavaliers',\n",
       " 'Pistons',\n",
       " 'Nuggets',\n",
       " 'Bulls',\n",
       " 'Thunder',\n",
       " 'Hawks',\n",
       " 'Nets',\n",
       " 'Lakers']"
      ]
     },
     "execution_count": 123,
     "metadata": {},
     "output_type": "execute_result"
    }
   ],
   "source": [
    "all_teams"
   ]
  }
 ],
 "metadata": {
  "kernelspec": {
   "display_name": "Python 3 (ipykernel)",
   "language": "python",
   "name": "python3"
  },
  "language_info": {
   "codemirror_mode": {
    "name": "ipython",
    "version": 3
   },
   "file_extension": ".py",
   "mimetype": "text/x-python",
   "name": "python",
   "nbconvert_exporter": "python",
   "pygments_lexer": "ipython3",
   "version": "3.11.5"
  }
 },
 "nbformat": 4,
 "nbformat_minor": 5
}
